{
 "cells": [
  {
   "cell_type": "code",
   "execution_count": 1,
   "metadata": {},
   "outputs": [],
   "source": [
    "import torch\n",
    "import os\n",
    "import torch.nn as nn\n",
    "import pandas as pd\n",
    "import numpy as np\n",
    "import matplotlib.pyplot as plt\n",
    "from sklearn.model_selection import train_test_split\n",
    "from sklearn.preprocessing import StandardScaler, RobustScaler, MinMaxScaler, MaxAbsScaler\n",
    "from torch.utils.data import DataLoader, TensorDataset\n",
    "import torch.optim as optim\n",
    "import warnings \n",
    "warnings.filterwarnings('ignore')"
   ]
  },
  {
   "cell_type": "code",
   "execution_count": 2,
   "metadata": {},
   "outputs": [],
   "source": [
    "# train dataset\n",
    "dummy_csv_folder_path = '/astrago_test_case/xgboost/data/train'\n",
    "#test dataset\n",
    "test_csv_folder_path = '/astrago_test_case/xgboost/data/test'\n",
    "\n",
    "\n",
    "dummy_csv_file_paths = [os.path.join(dummy_csv_folder_path, file) for file in os.listdir(dummy_csv_folder_path) if file.endswith('.csv')]\n",
    "\n",
    "\n",
    "df = pd.DataFrame()\n",
    "for file_path in dummy_csv_file_paths:\n",
    "    df_each = pd.read_csv(file_path)\n",
    "    df = pd.concat([df, df_each], ignore_index=True)\n",
    "\n",
    "\n",
    "df = df[df['data_num'] != 0]\n",
    "df = df.reset_index()\n",
    "df.drop('index', axis=1, inplace=True)\n",
    "\n",
    "X = df.drop('total_data_inference_time', axis=1).values\n",
    "y = df['total_data_inference_time'].values\n",
    "\n",
    "# data slice\n",
    "X_train, X_val, y_train, y_val = train_test_split(X, y, test_size=0.3)\n",
    "\n",
    "# #fit\n",
    "# scaler = StandardScaler()\n",
    "# # # scaler = MinMaxScaler()\n",
    "# # # scaler = RobustScaler()\n",
    "# X_train = scaler.fit_transform(X_train)\n",
    "# X_val = scaler.fit_transform(X_val)\n",
    "\n",
    "#torch tensor\n",
    "X_train = torch.tensor(X_train, dtype=torch.float32)\n",
    "y_train = torch.tensor(y_train, dtype=torch.float32)\n",
    "X_val = torch.tensor(X_val, dtype=torch.float32)\n",
    "y_val = torch.tensor(y_val, dtype=torch.float32)\n",
    "\n",
    "# data loader\n",
    "train_data = TensorDataset(X_train, y_train)\n",
    "val_data = TensorDataset(X_val, y_val)\n",
    "train_loader = DataLoader(train_data, batch_size = 16, shuffle = True)\n",
    "val_loader = DataLoader(val_data, batch_size = 16)"
   ]
  },
  {
   "cell_type": "code",
   "execution_count": 3,
   "metadata": {},
   "outputs": [],
   "source": [
    "test_csv_file_paths = [os.path.join(test_csv_folder_path, file) for file in os.listdir(test_csv_folder_path) if file.endswith('.csv')]\n",
    "\n",
    "df = pd.DataFrame()\n",
    "for file_path in test_csv_file_paths:\n",
    "    df_each = pd.read_csv(file_path)\n",
    "    df_each['total_inference_time'] = df_each['single_data_inference_time'].cumsum()\n",
    "    df = pd.concat([df, df_each], ignore_index=True)\n",
    "\n",
    "\n",
    "df_test = df[df['inference_time'] != 0] # 0 epoch 제거\n",
    "df_test.drop(\"model_name\", axis=1, inplace=True)\n",
    "df_test.drop(\"data_num\", axis=1, inplace=True)\n",
    "df_test.drop(\"gpu_usage\", axis=1, inplace=True)\n",
    "df_test.drop(\"cpu_usage\", axis=1, inplace=True)\n",
    "df_test.drop(\"inference_time\", axis=1, inplace=True)\n",
    "df_test.drop(\"save_time\", axis=1, inplace=True)\n",
    "df_test.drop('single_data_inference_time', axis=1, inplace=True)\n",
    "df_test.drop('gpu', axis=1, inplace=True)\n",
    "df_test.rename(columns={'num' : 'data_num'}, inplace=True)\n",
    "df_test = df_test[['FLOPS', 'data_num', 'imgsz', 'param', 'total_inference_time']]\n",
    "\n",
    "df_test['FLOPS'] = 14\n",
    "\n",
    "X_test = df_test.drop('total_inference_time', axis=1).values\n",
    "y_test = df_test['total_inference_time'].values\n",
    "\n",
    "# scaler = StandardScaler()\n",
    "# X_test = scaler.fit_transform(X_test)\n",
    "\n",
    "X_test = torch.tensor(X_test, dtype=torch.float32)\n",
    "y_test = torch.tensor(y_test, dtype=torch.float32)"
   ]
  },
  {
   "cell_type": "code",
   "execution_count": 4,
   "metadata": {},
   "outputs": [
    {
     "name": "stdout",
     "output_type": "stream",
     "text": [
      "Train MSE: 0.0000\n",
      "Validation MSE: 0.0000\n",
      "Test MSE: 6.1487\n"
     ]
    }
   ],
   "source": [
    "# XGBoost 회귀 모델 정의\n",
    "import xgboost as xgb\n",
    "from sklearn.metrics import mean_squared_error\n",
    "\n",
    "model = xgb.XGBRegressor(objective ='reg:squarederror', learning_rate = 0.05, min_child_weight = 5, subsample = 0.45, \n",
    "                         max_depth = 9, n_estimators = 10000, tree_method='gpu_hist', gpu_id=0)\n",
    "\n",
    "# 모델 학습\n",
    "model.fit(X_train, y_train)\n",
    "\n",
    "# 훈련 데이터셋에 대한 성능 평가\n",
    "train_preds = model.predict(X_train)\n",
    "train_mse = mean_squared_error(y_train, train_preds)\n",
    "print(f'Train MSE: {train_mse:.4f}')\n",
    "\n",
    "# 검증 데이터셋에 대한 성능 평가\n",
    "val_preds = model.predict(X_val)  # X_val: 검증 데이터셋\n",
    "val_mse = mean_squared_error(y_val, val_preds)  # y_val: 검증 데이터의 실제 값\n",
    "print(f'Validation MSE: {val_mse:.4f}')\n",
    "\n",
    "y_pred = model.predict(X_test)  # X_val: 검증 데이터셋\n",
    "test_mse = mean_squared_error(y_test, y_pred)  # y_val: 검증 데이터의 실제 값\n",
    "print(f'Test MSE: {test_mse:.4f}')"
   ]
  }
 ],
 "metadata": {
  "kernelspec": {
   "display_name": "base",
   "language": "python",
   "name": "python3"
  },
  "language_info": {
   "codemirror_mode": {
    "name": "ipython",
    "version": 3
   },
   "file_extension": ".py",
   "mimetype": "text/x-python",
   "name": "python",
   "nbconvert_exporter": "python",
   "pygments_lexer": "ipython3",
   "version": "3.11.5"
  }
 },
 "nbformat": 4,
 "nbformat_minor": 2
}
